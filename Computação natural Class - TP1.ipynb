{
 "cells": [
  {
   "cell_type": "markdown",
   "metadata": {},
   "source": [
    "## Imports "
   ]
  },
  {
   "cell_type": "code",
   "execution_count": 1,
   "metadata": {},
   "outputs": [],
   "source": [
    "import numpy as np\n",
    "import os\n",
    "import random\n",
    "from random import choice "
   ]
  },
  {
   "cell_type": "markdown",
   "metadata": {},
   "source": [
    "## Reading databases"
   ]
  },
  {
   "cell_type": "code",
   "execution_count": 2,
   "metadata": {},
   "outputs": [],
   "source": [
    "def read_databases(filename):\n",
    "    x1 = []\n",
    "    x2 = []\n",
    "    y = []\n",
    "    for line in open(filename):\n",
    "        csv_row = line.strip().split(',')\n",
    "        csv_row = [float(number) for number in csv_row]\n",
    "        x1.append(csv_row[0])\n",
    "        x2.append(csv_row[1])\n",
    "        y.append(csv_row[2])\n",
    "    return x1, x2, y"
   ]
  },
  {
   "cell_type": "code",
   "execution_count": 3,
   "metadata": {},
   "outputs": [],
   "source": [
    "filename = 'datasets/synth1/synth1-test.csv'\n",
    "x1_train, x2_train, y_train = read_databases(filename)"
   ]
  },
  {
   "cell_type": "code",
   "execution_count": 4,
   "metadata": {},
   "outputs": [],
   "source": [
    "filename = 'datasets/synth1/synth1-train.csv'\n",
    "x1_test, x2_test, y_test = read_databases(filename)"
   ]
  },
  {
   "cell_type": "markdown",
   "metadata": {},
   "source": [
    "## Defining individual class"
   ]
  },
  {
   "cell_type": "code",
   "execution_count": 5,
   "metadata": {},
   "outputs": [],
   "source": [
    "expression = [['expression', 'op', 'expression'], 'variable', 'value']\n",
    "operation = ['+', '-', '*']\n",
    "variable = ['x1', 'x2']\n",
    "value = ['random']"
   ]
  },
  {
   "cell_type": "code",
   "execution_count": 6,
   "metadata": {},
   "outputs": [],
   "source": [
    "terminals_dict = dict()\n",
    "terminals_dict['op'] = operation\n",
    "terminals_dict['variable'] = variable\n",
    "terminals_dict['value'] = value"
   ]
  },
  {
   "cell_type": "code",
   "execution_count": 7,
   "metadata": {},
   "outputs": [],
   "source": [
    "class Node(object):\n",
    "    def __init__(self, data='op', level=0):\n",
    "        self.data = data\n",
    "        self.type = data\n",
    "        self.left_child = None\n",
    "        self.right_child = None\n",
    "        self.level = level\n",
    "        self.max_level = 3\n",
    "        self.terminal = False\n",
    "    \n",
    "    def initial_node(self):\n",
    "        self.add_left('expression')\n",
    "        self.add_right('expression')\n",
    "    \n",
    "    def initialize(self):\n",
    "        self.add_left('expression')\n",
    "        self.add_right('expression')\n",
    "        self.expand_children()\n",
    "        self.get_parameters()\n",
    "\n",
    "    def add_left(self, value):\n",
    "        self.left_child = Node(value, level=self.level+1)\n",
    "    \n",
    "    def add_right(self, value):\n",
    "        self.right_child = Node(value, level=self.level+1)\n",
    "        \n",
    "    def show(self):\n",
    "        print(self.level, \":  \", self.data)\n",
    "        if self.left_child:\n",
    "            self.left_child.show()\n",
    "            self.right_child.show()\n",
    "    \n",
    "    def get_expression(self):\n",
    "        if self.data == 'expression':\n",
    "            self.data = choice(expression)\n",
    "            if type(self.data) == list:\n",
    "                if self.level < self.max_level: \n",
    "                    self.add_left(self.data[0])\n",
    "                    self.add_right(self.data[2])\n",
    "                    self.data = self.data[1]\n",
    "                else:\n",
    "                    self.data = 'value'\n",
    "                    \n",
    "        if self.data != 'op':\n",
    "            self.terminal = True\n",
    "                    \n",
    "        if self.left_child is not None:\n",
    "            self.left_child.get_expression()\n",
    "        \n",
    "        if self.right_child is not None:\n",
    "            self.right_child.get_expression()\n",
    "        \n",
    "        self.type = self.data\n",
    "    \n",
    "    def expand_children(self):\n",
    "        self.left_child.get_expression()\n",
    "        self.right_child.get_expression()\n",
    "    \n",
    "    def get_parameters(self):\n",
    "        self.data = choice(terminals_dict[self.data])\n",
    "        if self.data == 'random':\n",
    "            self.data = random.random()*5\n",
    "        \n",
    "        if self.left_child is not None:\n",
    "            self.left_child.get_parameters()\n",
    "        \n",
    "        if self.right_child is not None:\n",
    "            self.right_child.get_parameters()\n",
    "    \n",
    "    def evaluate(self, x1=0, x2=0):\n",
    "        \n",
    "        if self.terminal:\n",
    "            if self.data == 'x1':\n",
    "                return x1\n",
    "            elif self.data == 'x2':\n",
    "                return x2\n",
    "            else:\n",
    "                return self.data\n",
    "            \n",
    "        if self.left_child is not None:\n",
    "            result_left = self.left_child.evaluate(x1, x2)\n",
    "        if self.right_child is not None:\n",
    "            result_right = self.right_child.evaluate(x1, x2)\n",
    "        \n",
    "        if self.data == '+':\n",
    "            return result_left + result_right\n",
    "        elif self.data == '-':\n",
    "            return result_left - result_right\n",
    "        elif self.data == '*':\n",
    "            return result_left * result_right\n",
    "    \n",
    "    def error(self, x1, x2, y):\n",
    "        return (y - self.evaluate(x1, x2))**2\n",
    "    \n",
    "    def fitness(self, x1_list, x2_list, y_list):\n",
    "        error_sum = 0\n",
    "        for x1, x2, y in zip(x1_list, x2_list, y_list):\n",
    "            error_sum += self.error(x1, x2, y)\n",
    "        y_mean = y_list - np.mean(y_list)\n",
    "        y_mean_sum = sum(y_mean**2)\n",
    "            \n",
    "        return (error_sum/y_mean_sum)**0.5"
   ]
  },
  {
   "cell_type": "code",
   "execution_count": 8,
   "metadata": {},
   "outputs": [
    {
     "name": "stdout",
     "output_type": "stream",
     "text": [
      "0 :   op\n",
      "1 :   value\n",
      "1 :   op\n",
      "2 :   op\n",
      "3 :   value\n",
      "3 :   value\n",
      "2 :   op\n",
      "3 :   value\n",
      "3 :   variable\n",
      "\n",
      "0 :   +\n",
      "1 :   0.5184079708290501\n",
      "1 :   -\n",
      "2 :   +\n",
      "3 :   4.521674764358857\n",
      "3 :   2.6150115859625744\n",
      "2 :   +\n",
      "3 :   0.32469927554585387\n",
      "3 :   x2\n"
     ]
    },
    {
     "data": {
      "text/plain": [
       "7.330395045604628"
      ]
     },
     "execution_count": 8,
     "metadata": {},
     "output_type": "execute_result"
    }
   ],
   "source": [
    "root = Node()\n",
    "root.initial_node()\n",
    "root.expand_children()\n",
    "root.show()\n",
    "\n",
    "root.get_parameters()\n",
    "print()\n",
    "root.show()\n",
    "\n",
    "root.evaluate()"
   ]
  },
  {
   "cell_type": "code",
   "execution_count": 9,
   "metadata": {},
   "outputs": [
    {
     "data": {
      "text/plain": [
       "2.330395045604628"
      ]
     },
     "execution_count": 9,
     "metadata": {},
     "output_type": "execute_result"
    }
   ],
   "source": [
    "root.evaluate(2,5)"
   ]
  },
  {
   "cell_type": "code",
   "execution_count": 10,
   "metadata": {},
   "outputs": [
    {
     "data": {
      "text/plain": [
       "0.10916088616008411"
      ]
     },
     "execution_count": 10,
     "metadata": {},
     "output_type": "execute_result"
    }
   ],
   "source": [
    "root.error(2,5, 2)"
   ]
  },
  {
   "cell_type": "markdown",
   "metadata": {},
   "source": [
    "## Generating initial population"
   ]
  },
  {
   "cell_type": "code",
   "execution_count": 11,
   "metadata": {},
   "outputs": [],
   "source": [
    "##Parameters\n",
    "population_size = 10"
   ]
  },
  {
   "cell_type": "code",
   "execution_count": 12,
   "metadata": {},
   "outputs": [],
   "source": [
    "class Genetic():\n",
    "    def __init__(self, population_size):\n",
    "        self.population_size = population_size\n",
    "        self.population = []\n",
    "        for i in range(self.population_size):\n",
    "            root = Node()\n",
    "            root.initialize()\n",
    "            self.population.append(root)\n",
    "    \n",
    "    def sort_by_fitness(self, x1_list, x2_list, y_list):\n",
    "        self.population.sort(key = lambda x: x.fitness(x1_list, x2_list, y_list))\n",
    "    \n",
    "    def rank_selection_pair(self):\n",
    "        ## Assign probabilities inversely proportional to the position index\n",
    "        p = list(range(len(solution1.population))) + np.array(1)\n",
    "        p = np.flipud(p)\n",
    "        p = p/sum(p)\n",
    "        return np.random.choice(self.population,size=2, p=p) #Return two individuals from population\n",
    "    \n",
    "    def crossover(self, probability=0.9):\n",
    "        pass\n",
    "    \n",
    "    def mutation(self, probability=0.1):\n",
    "        pass"
   ]
  },
  {
   "cell_type": "code",
   "execution_count": 13,
   "metadata": {},
   "outputs": [],
   "source": [
    "solution1 = Genetic(population_size)"
   ]
  },
  {
   "cell_type": "code",
   "execution_count": 14,
   "metadata": {},
   "outputs": [
    {
     "name": "stdout",
     "output_type": "stream",
     "text": [
      "0 :   -\n",
      "1 :   *\n",
      "2 :   0.8763086637812206\n",
      "2 :   *\n",
      "3 :   x2\n",
      "3 :   x1\n",
      "1 :   x1\n"
     ]
    }
   ],
   "source": [
    "solution1.population[0].show()"
   ]
  },
  {
   "cell_type": "code",
   "execution_count": 15,
   "metadata": {},
   "outputs": [
    {
     "name": "stdout",
     "output_type": "stream",
     "text": [
      "0 :   -\n",
      "1 :   x2\n",
      "1 :   x1\n"
     ]
    }
   ],
   "source": [
    "solution1.population[9].show()"
   ]
  },
  {
   "cell_type": "markdown",
   "metadata": {},
   "source": [
    "## Selection"
   ]
  },
  {
   "cell_type": "code",
   "execution_count": 16,
   "metadata": {},
   "outputs": [],
   "source": [
    "solution1.sort_by_fitness(x1_test, x2_test, y_test)"
   ]
  },
  {
   "cell_type": "code",
   "execution_count": 17,
   "metadata": {},
   "outputs": [
    {
     "name": "stdout",
     "output_type": "stream",
     "text": [
      "0 :   *\n",
      "1 :   3.083526419863846\n",
      "1 :   +\n",
      "2 :   *\n",
      "3 :   x1\n",
      "3 :   x1\n",
      "2 :   x1\n"
     ]
    }
   ],
   "source": [
    "solution1.population[0].show()"
   ]
  },
  {
   "cell_type": "code",
   "execution_count": 18,
   "metadata": {},
   "outputs": [
    {
     "name": "stdout",
     "output_type": "stream",
     "text": [
      "0 :   +\n",
      "1 :   3.5020910483755037\n",
      "1 :   *\n",
      "2 :   2.986716799017022\n",
      "2 :   *\n",
      "3 :   2.5191720398465884\n",
      "3 :   3.1604551630016053\n"
     ]
    }
   ],
   "source": [
    "solution1.population[9].show()"
   ]
  },
  {
   "cell_type": "code",
   "execution_count": 61,
   "metadata": {},
   "outputs": [
    {
     "data": {
      "text/plain": [
       "array([0.18181818, 0.16363636, 0.14545455, 0.12727273, 0.10909091,\n",
       "       0.09090909, 0.07272727, 0.05454545, 0.03636364, 0.01818182])"
      ]
     },
     "execution_count": 61,
     "metadata": {},
     "output_type": "execute_result"
    }
   ],
   "source": [
    "p = list(range(len(solution1.population))) + np.array(1)\n",
    "p = np.flipud(p)\n",
    "p = p/sum(p)\n",
    "p"
   ]
  },
  {
   "cell_type": "code",
   "execution_count": 103,
   "metadata": {},
   "outputs": [
    {
     "data": {
      "text/plain": [
       "<__main__.Node at 0x1414b40db00>"
      ]
     },
     "execution_count": 103,
     "metadata": {},
     "output_type": "execute_result"
    }
   ],
   "source": [
    "parents = np.random.choice(solution1.population,size=2, p=p)\n",
    "parents[0]"
   ]
  },
  {
   "cell_type": "code",
   "execution_count": 68,
   "metadata": {},
   "outputs": [
    {
     "name": "stdout",
     "output_type": "stream",
     "text": [
      "0 :   *\n",
      "1 :   3.083526419863846\n",
      "1 :   +\n",
      "2 :   *\n",
      "3 :   x1\n",
      "3 :   x1\n",
      "2 :   x1\n"
     ]
    }
   ],
   "source": [
    "solution1.population[0].show()"
   ]
  }
 ],
 "metadata": {
  "kernelspec": {
   "display_name": "Python 3",
   "language": "python",
   "name": "python3"
  },
  "language_info": {
   "codemirror_mode": {
    "name": "ipython",
    "version": 3
   },
   "file_extension": ".py",
   "mimetype": "text/x-python",
   "name": "python",
   "nbconvert_exporter": "python",
   "pygments_lexer": "ipython3",
   "version": "3.5.5"
  }
 },
 "nbformat": 4,
 "nbformat_minor": 2
}
