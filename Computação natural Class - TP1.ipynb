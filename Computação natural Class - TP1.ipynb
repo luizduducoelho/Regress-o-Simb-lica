{
 "cells": [
  {
   "cell_type": "markdown",
   "metadata": {},
   "source": [
    "## Imports "
   ]
  },
  {
   "cell_type": "code",
   "execution_count": 1,
   "metadata": {},
   "outputs": [],
   "source": [
    "import numpy as np\n",
    "import os\n",
    "import random\n",
    "from random import choice \n",
    "from copy import deepcopy"
   ]
  },
  {
   "cell_type": "markdown",
   "metadata": {},
   "source": [
    "## Reading databases"
   ]
  },
  {
   "cell_type": "code",
   "execution_count": 2,
   "metadata": {},
   "outputs": [],
   "source": [
    "def read_databases(filename):\n",
    "    x1 = []\n",
    "    x2 = []\n",
    "    y = []\n",
    "    for line in open(filename):\n",
    "        csv_row = line.strip().split(',')\n",
    "        csv_row = [float(number) for number in csv_row]\n",
    "        x1.append(csv_row[0])\n",
    "        x2.append(csv_row[1])\n",
    "        y.append(csv_row[2])\n",
    "    return x1, x2, y"
   ]
  },
  {
   "cell_type": "code",
   "execution_count": 3,
   "metadata": {},
   "outputs": [],
   "source": [
    "filename = 'datasets/synth1/synth1-test.csv'\n",
    "x1_train, x2_train, y_train = read_databases(filename)"
   ]
  },
  {
   "cell_type": "code",
   "execution_count": 4,
   "metadata": {},
   "outputs": [],
   "source": [
    "filename = 'datasets/synth1/synth1-train.csv'\n",
    "x1_test, x2_test, y_test = read_databases(filename)"
   ]
  },
  {
   "cell_type": "markdown",
   "metadata": {},
   "source": [
    "## Defining individual class"
   ]
  },
  {
   "cell_type": "code",
   "execution_count": 5,
   "metadata": {},
   "outputs": [],
   "source": [
    "expression = [['expression', 'op', 'expression'], 'variable', 'value']\n",
    "operation = ['+', '-', '*']\n",
    "variable = ['x1', 'x2']\n",
    "value = ['random']"
   ]
  },
  {
   "cell_type": "code",
   "execution_count": 6,
   "metadata": {},
   "outputs": [],
   "source": [
    "terminals_dict = dict()\n",
    "terminals_dict['op'] = operation\n",
    "terminals_dict['variable'] = variable\n",
    "terminals_dict['value'] = value"
   ]
  },
  {
   "cell_type": "code",
   "execution_count": 7,
   "metadata": {},
   "outputs": [],
   "source": [
    "class Node(object):\n",
    "    def __init__(self, data='op', level=0):\n",
    "        self.data = data\n",
    "        self.type = data\n",
    "        self.left_child = None\n",
    "        self.right_child = None\n",
    "        self.level = level\n",
    "        self.max_level = 3\n",
    "        self.terminal = False\n",
    "    \n",
    "    def __copy__(self):\n",
    "        clone = Node()\n",
    "        clone.data = self.data\n",
    "        clone.type = self.type\n",
    "        clone.left_child = self.left_child\n",
    "        clone.right_child = self.right_child\n",
    "        clone.level = self.level\n",
    "        clone.max_level = self.max_level\n",
    "        clone.terminal = seld.terminal\n",
    "\n",
    "    def initial_node(self):\n",
    "        self.add_left('expression')\n",
    "        self.add_right('expression')\n",
    "    \n",
    "    def initialize(self):\n",
    "        self.add_left('expression')\n",
    "        self.add_right('expression')\n",
    "        self.expand_children()\n",
    "        self.get_parameters()\n",
    "\n",
    "    def add_left(self, value):\n",
    "        self.left_child = Node(value, level=self.level+1)\n",
    "    \n",
    "    def add_right(self, value):\n",
    "        self.right_child = Node(value, level=self.level+1)\n",
    "        \n",
    "    def show(self):\n",
    "        print(self.level, \": \" , self.data)\n",
    "        if self.left_child:\n",
    "            self.left_child.show()\n",
    "        \n",
    "        if self.right_child:\n",
    "            self.right_child.show()\n",
    "    \n",
    "    def get_expression(self):\n",
    "        if self.data == 'expression':\n",
    "            self.data = choice(expression)\n",
    "            if type(self.data) == list:\n",
    "                if self.level < self.max_level: \n",
    "                    self.add_left(self.data[0])\n",
    "                    self.add_right(self.data[2])\n",
    "                    self.data = self.data[1]\n",
    "                else:\n",
    "                    self.data = 'value'\n",
    "                    \n",
    "        if self.data != 'op':\n",
    "            self.terminal = True\n",
    "                    \n",
    "        if self.left_child is not None:\n",
    "            self.left_child.get_expression()\n",
    "        \n",
    "        if self.right_child is not None:\n",
    "            self.right_child.get_expression()\n",
    "        \n",
    "        self.type = self.data\n",
    "    \n",
    "    def expand_children(self):\n",
    "        self.left_child.get_expression()\n",
    "        self.right_child.get_expression()\n",
    "    \n",
    "    def get_parameters(self):\n",
    "        self.data = choice(terminals_dict[self.data])\n",
    "        if self.data == 'random':\n",
    "            self.data = random.random()*5\n",
    "        \n",
    "        if self.left_child is not None:\n",
    "            self.left_child.get_parameters()\n",
    "        \n",
    "        if self.right_child is not None:\n",
    "            self.right_child.get_parameters()\n",
    "    \n",
    "    def evaluate(self, x1=0, x2=0):\n",
    "        \n",
    "        if self.terminal:\n",
    "            if self.data == 'x1':\n",
    "                return x1\n",
    "            elif self.data == 'x2':\n",
    "                return x2\n",
    "            else:\n",
    "                return self.data\n",
    "            \n",
    "        if self.left_child is not None:\n",
    "            result_left = self.left_child.evaluate(x1, x2)\n",
    "        if self.right_child is not None:\n",
    "            result_right = self.right_child.evaluate(x1, x2)\n",
    "        \n",
    "        if self.data == '+':\n",
    "            return result_left + result_right\n",
    "        elif self.data == '-':\n",
    "            return result_left - result_right\n",
    "        elif self.data == '*':\n",
    "            return result_left * result_right\n",
    "    \n",
    "    def error(self, x1, x2, y):\n",
    "        return (y - self.evaluate(x1, x2))**2\n",
    "    \n",
    "    def fitness(self, x1_list, x2_list, y_list):\n",
    "        error_sum = 0\n",
    "        for x1, x2, y in zip(x1_list, x2_list, y_list):\n",
    "            error_sum += self.error(x1, x2, y)\n",
    "        y_mean = y_list - np.mean(y_list)\n",
    "        y_mean_sum = sum(y_mean**2)\n",
    "            \n",
    "        return (error_sum/y_mean_sum)**0.5\n",
    "    \n",
    "    def change_node(self):\n",
    "        self.data = choice(terminals_dict[self.type])\n",
    "        if self.data == 'random':\n",
    "            self.data = random.random()*5\n",
    "    \n",
    "    def mutate(self, m_level):\n",
    "        if m_level == self.level:\n",
    "            return self.change_node()\n",
    "        elif np.random.rand() < 0.5 and self.left_child is not None:\n",
    "            self.left_child.mutate(m_level)\n",
    "        elif self.right_child is not None:\n",
    "            self.right_child.mutate(m_level)\n",
    "        else:\n",
    "            return self.change_node()\n",
    "    \n",
    "    def subtree(self, directions_list):\n",
    "        if len(directions_list) <= 1:\n",
    "            if directions_list[0] == 'left':\n",
    "                #return self.left_child\n",
    "                return self.left_child if self.left_child else self\n",
    "            elif directions_list[0] == 'right':\n",
    "                return self.right_child if self.right_child else self\n",
    "            else:\n",
    "                raise ValueError('Please give a valid id for tree directions [\"left\"] or [\"right\"].', directions_list[0])\n",
    "        elif directions_list[0] == 'left':\n",
    "            return self.left_child.subtree(directions_list[1:]) if self.left_child else self\n",
    "        elif directions_list[0] == 'right':\n",
    "            return self.right_child.subtree(directions_list[1:]) if self.right_child else self\n",
    "        else:\n",
    "            raise ValueError('Please give a valid id for tree directions [\"left\"] or [\"right\"].', directions_list[0])\n",
    "    \n",
    "    def alter_subtree(self, directions_list, subtree):\n",
    "        if self.left_child == None:\n",
    "                self.data = subtree.data\n",
    "                self.left_child = subtree.left_child\n",
    "                self.right_child = subtree.right_child\n",
    "                self.fix_level(self.level)\n",
    "                #print(\"Terminal\")\n",
    "        \n",
    "        elif len(directions_list) == 1:\n",
    "            if directions_list[0] == 'left':\n",
    "                self.left_child = subtree\n",
    "                self.left_child.fix_level(self.level+1)\n",
    "            elif directions_list[0] == 'right':\n",
    "                self.right_child = subtree\n",
    "                self.right_child.fix_level(self.level+1)\n",
    "            else:\n",
    "                raise ValueError('Please give a valid id for tree directions [\"left\"] or [\"right\"].', directions_list[0])\n",
    "        \n",
    "        elif directions_list[0] == 'left':\n",
    "            if self.left_child:\n",
    "                self.left_child.alter_subtree(directions_list[1:], subtree)\n",
    "            else:\n",
    "                self.left_child = subtree\n",
    "                self.left_child.fix_level(self.level+1)\n",
    "        \n",
    "        elif directions_list[0] == 'right':\n",
    "            if self.right_child:\n",
    "                self.right_child.alter_subtree(directions_list[1:], subtree)\n",
    "            else:\n",
    "                self.right_child = subtree\n",
    "                self.right_child.fix_level(self.level+1)\n",
    "        \n",
    "        else:\n",
    "            raise ValueError('Please give a valid id for tree directions [\"left\"] or [\"right\"].', directions_list[0])\n",
    "    \n",
    "    def gen_directions(self, level):\n",
    "        directions = ['left', 'right']\n",
    "        directions_list = []\n",
    "        for i in range(level):\n",
    "            directions_list.append(np.random.choice(directions))\n",
    "        return directions_list\n",
    "    \n",
    "    def fix_level(self, level):\n",
    "        self.level = level\n",
    "        if self.left_child:\n",
    "            self.left_child.fix_level(level+1)\n",
    "        if self.right_child:\n",
    "            self.right_child.fix_level(level+1)\n",
    "        \n",
    "    def crossover(self, parent, crossover_level1, crossover_level2):\n",
    "        directions_list1 = self.gen_directions(crossover_level1)\n",
    "        directions_list2 = self.gen_directions(crossover_level2)\n",
    "        print(directions_list1, directions_list2)\n",
    "        subtree1 = deepcopy(self.subtree(directions_list1))\n",
    "        subtree2 = deepcopy(parent.subtree(directions_list2))\n",
    "        #subtree1.show()\n",
    "        #subtree2.show()\n",
    "        self.alter_subtree(directions_list1, subtree2)\n",
    "        parent.alter_subtree(directions_list2, subtree1)\n",
    "        self.fix_level(0)\n",
    "        parent.fix_level(0)"
   ]
  },
  {
   "cell_type": "code",
   "execution_count": 8,
   "metadata": {},
   "outputs": [
    {
     "name": "stdout",
     "output_type": "stream",
     "text": [
      "0 :  op\n",
      "1 :  variable\n",
      "1 :  op\n",
      "2 :  value\n",
      "2 :  variable\n",
      "\n",
      "0 :  -\n",
      "1 :  x2\n",
      "1 :  -\n",
      "2 :  3.598398204469962\n",
      "2 :  x1\n"
     ]
    },
    {
     "data": {
      "text/plain": [
       "-3.598398204469962"
      ]
     },
     "execution_count": 8,
     "metadata": {},
     "output_type": "execute_result"
    }
   ],
   "source": [
    "root = Node()\n",
    "root.initial_node()\n",
    "root.expand_children()\n",
    "root.show()\n",
    "\n",
    "root.get_parameters()\n",
    "print()\n",
    "root.show()\n",
    "\n",
    "root.evaluate()"
   ]
  },
  {
   "cell_type": "code",
   "execution_count": 9,
   "metadata": {},
   "outputs": [
    {
     "data": {
      "text/plain": [
       "3.401601795530038"
      ]
     },
     "execution_count": 9,
     "metadata": {},
     "output_type": "execute_result"
    }
   ],
   "source": [
    "root.evaluate(2,5)"
   ]
  },
  {
   "cell_type": "code",
   "execution_count": 10,
   "metadata": {},
   "outputs": [
    {
     "data": {
      "text/plain": [
       "1.964487593233027"
      ]
     },
     "execution_count": 10,
     "metadata": {},
     "output_type": "execute_result"
    }
   ],
   "source": [
    "root.error(2,5, 2)"
   ]
  },
  {
   "cell_type": "markdown",
   "metadata": {},
   "source": [
    "## Generating initial population"
   ]
  },
  {
   "cell_type": "code",
   "execution_count": 11,
   "metadata": {},
   "outputs": [],
   "source": [
    "##Parameters\n",
    "population_size = 10\n",
    "crossover_probability = 0.9"
   ]
  },
  {
   "cell_type": "code",
   "execution_count": 12,
   "metadata": {},
   "outputs": [],
   "source": [
    "class Genetic():\n",
    "    def __init__(self, population_size, crossover_probability=0.9):\n",
    "        if crossover_probability < 0 or crossover_probability > 1 :\n",
    "            raise ValueError('Please give a valid number for crossover probability.')\n",
    "        self.population_size = population_size\n",
    "        self.crossover_probability = crossover_probability\n",
    "        self.mutation_probability = 1 - crossover_probability\n",
    "        self.population = []\n",
    "        for i in range(self.population_size):\n",
    "            root = Node()\n",
    "            root.initialize()\n",
    "            self.population.append(root)\n",
    "    \n",
    "    def sort_by_fitness(self, x1_list, x2_list, y_list):\n",
    "        self.population.sort(key = lambda x: x.fitness(x1_list, x2_list, y_list))\n",
    "    \n",
    "    def rank_selection_pair(self):\n",
    "        ## Assign probabilities inversely proportional to the position index\n",
    "        p = list(range(len(solution1.population))) + np.array(1)\n",
    "        p = np.flipud(p)  # reverse array\n",
    "        p = p/sum(p)\n",
    "        return np.random.choice(self.population,size=2, p=p) #Return two individuals from population\n",
    "    \n",
    "    def tournament(self):\n",
    "        pass\n",
    "    \n",
    "    def generate_offspring(self):\n",
    "        if np.random.rand() < self.crossover_probability:\n",
    "            ## Crossover\n",
    "            print(\"Crossover\")\n",
    "            return self.crossover()\n",
    "        else:\n",
    "            ## Mutation\n",
    "            print(\"Mutation\")\n",
    "            return self.mutation()\n",
    "    \n",
    "    def crossover(self, elitism=False):\n",
    "        ## Chosing mutation level with a pobability \n",
    "        parents = self.rank_selection_pair()\n",
    "        children = [deepcopy(parents[0]), deepcopy(parents[1])]\n",
    "        print(children[0].show())\n",
    "        print(children[1].show())\n",
    "        p = list(range(3)) + np.array(1)\n",
    "        p = p/sum(p)\n",
    "        \n",
    "        crossover_level1 = np.random.choice(3, p=p) + 1  ## Avoid this number to be zero\n",
    "        crossover_level2 = np.random.choice(3, p=p) + 1\n",
    "        children[0].crossover(children[1], crossover_level1, crossover_level2)\n",
    "        return children\n",
    "        \n",
    "    \n",
    "    def mutation(self, elitism=False):\n",
    "        parents = self.rank_selection_pair()\n",
    "        children = [deepcopy(parents[0]), deepcopy(parents[1])]\n",
    "        print(children[0].show())\n",
    "        print(children[1].show())\n",
    "        p = list(range(3)) + np.array(1)\n",
    "        p = p/sum(p)\n",
    "        for child in children:\n",
    "            mutation_level = np.random.choice(3, p=p)\n",
    "            child.mutate(mutation_level)\n",
    "        return children"
   ]
  },
  {
   "cell_type": "code",
   "execution_count": 13,
   "metadata": {},
   "outputs": [],
   "source": [
    "solution1 = Genetic(population_size, crossover_probability)"
   ]
  },
  {
   "cell_type": "code",
   "execution_count": 14,
   "metadata": {},
   "outputs": [],
   "source": [
    "solution1.sort_by_fitness(x1_test, x2_test, y_test)"
   ]
  },
  {
   "cell_type": "code",
   "execution_count": 15,
   "metadata": {},
   "outputs": [
    {
     "name": "stdout",
     "output_type": "stream",
     "text": [
      "1.0313029334552932\n",
      "0 :  *\n",
      "1 :  3.3180707471782456\n",
      "1 :  2.4481773646159954\n"
     ]
    }
   ],
   "source": [
    "print(solution1.population[0].fitness(x1_test, x2_test, y_test))\n",
    "solution1.population[0].show()"
   ]
  },
  {
   "cell_type": "code",
   "execution_count": 16,
   "metadata": {},
   "outputs": [
    {
     "name": "stdout",
     "output_type": "stream",
     "text": [
      "1.1016180470229489\n",
      "0 :  -\n",
      "1 :  3.9226334066243007\n",
      "1 :  -\n",
      "2 :  +\n",
      "3 :  3.310203279612275\n",
      "3 :  x1\n",
      "2 :  +\n",
      "3 :  3.549892804912735\n",
      "3 :  x2\n"
     ]
    }
   ],
   "source": [
    "print(solution1.population[1].fitness(x1_test, x2_test, y_test))\n",
    "solution1.population[1].show()"
   ]
  },
  {
   "cell_type": "code",
   "execution_count": 17,
   "metadata": {},
   "outputs": [
    {
     "name": "stdout",
     "output_type": "stream",
     "text": [
      "1.1700002399677105\n",
      "0 :  +\n",
      "1 :  1.6666845994447455\n",
      "1 :  *\n",
      "2 :  x1\n",
      "2 :  +\n",
      "3 :  1.5591774047770541\n",
      "3 :  0.41695668746976666\n"
     ]
    }
   ],
   "source": [
    "print(solution1.population[2].fitness(x1_test, x2_test, y_test))\n",
    "solution1.population[2].show()"
   ]
  },
  {
   "cell_type": "code",
   "execution_count": 18,
   "metadata": {},
   "outputs": [
    {
     "name": "stdout",
     "output_type": "stream",
     "text": [
      "1.1971119067990734\n",
      "0 :  -\n",
      "1 :  0.544908022793642\n",
      "1 :  -\n",
      "2 :  x2\n",
      "2 :  x2\n"
     ]
    }
   ],
   "source": [
    "print(solution1.population[3].fitness(x1_test, x2_test, y_test))\n",
    "solution1.population[3].show()"
   ]
  },
  {
   "cell_type": "code",
   "execution_count": 19,
   "metadata": {},
   "outputs": [
    {
     "name": "stdout",
     "output_type": "stream",
     "text": [
      "1.2000645388249587\n",
      "0 :  -\n",
      "1 :  1.293582707356371\n",
      "1 :  -\n",
      "2 :  1.0455647970990745\n",
      "2 :  x2\n"
     ]
    }
   ],
   "source": [
    "print(solution1.population[4].fitness(x1_test, x2_test, y_test))\n",
    "solution1.population[4].show()"
   ]
  },
  {
   "cell_type": "markdown",
   "metadata": {},
   "source": [
    "## Selection"
   ]
  },
  {
   "cell_type": "code",
   "execution_count": 20,
   "metadata": {},
   "outputs": [
    {
     "data": {
      "text/plain": [
       "array([<__main__.Node object at 0x000001A7A655BFD0>,\n",
       "       <__main__.Node object at 0x000001A7A655BEB8>], dtype=object)"
      ]
     },
     "execution_count": 20,
     "metadata": {},
     "output_type": "execute_result"
    }
   ],
   "source": [
    "solution1.rank_selection_pair()"
   ]
  },
  {
   "cell_type": "code",
   "execution_count": 21,
   "metadata": {},
   "outputs": [
    {
     "name": "stdout",
     "output_type": "stream",
     "text": [
      "Crossover\n",
      "0 :  -\n",
      "1 :  0.544908022793642\n",
      "1 :  -\n",
      "2 :  x2\n",
      "2 :  x2\n",
      "None\n",
      "0 :  -\n",
      "1 :  2.838212058429778\n",
      "1 :  2.4405613569856897\n",
      "None\n",
      "['right', 'right', 'left'] ['right', 'right']\n"
     ]
    }
   ],
   "source": [
    "children = solution1.generate_offspring()"
   ]
  },
  {
   "cell_type": "code",
   "execution_count": 22,
   "metadata": {},
   "outputs": [
    {
     "name": "stdout",
     "output_type": "stream",
     "text": [
      "0 :  -\n",
      "1 :  0.544908022793642\n",
      "1 :  -\n",
      "2 :  x2\n",
      "2 :  2.4405613569856897\n"
     ]
    }
   ],
   "source": [
    "children[0].show()"
   ]
  },
  {
   "cell_type": "code",
   "execution_count": 23,
   "metadata": {},
   "outputs": [
    {
     "name": "stdout",
     "output_type": "stream",
     "text": [
      "0 :  -\n",
      "1 :  2.838212058429778\n",
      "1 :  x2\n"
     ]
    }
   ],
   "source": [
    "children[1].show()"
   ]
  },
  {
   "cell_type": "code",
   "execution_count": 24,
   "metadata": {},
   "outputs": [
    {
     "data": {
      "text/plain": [
       "1"
      ]
     },
     "execution_count": 24,
     "metadata": {},
     "output_type": "execute_result"
    }
   ],
   "source": [
    "p = list(range(3)) + np.array(1)\n",
    "p = p/sum(p)\n",
    "np.random.choice(3, p=p)\n"
   ]
  },
  {
   "cell_type": "markdown",
   "metadata": {},
   "source": [
    "## Tests area"
   ]
  }
 ],
 "metadata": {
  "kernelspec": {
   "display_name": "Python 3",
   "language": "python",
   "name": "python3"
  },
  "language_info": {
   "codemirror_mode": {
    "name": "ipython",
    "version": 3
   },
   "file_extension": ".py",
   "mimetype": "text/x-python",
   "name": "python",
   "nbconvert_exporter": "python",
   "pygments_lexer": "ipython3",
   "version": "3.5.5"
  }
 },
 "nbformat": 4,
 "nbformat_minor": 2
}
