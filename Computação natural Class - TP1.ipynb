{
 "cells": [
  {
   "cell_type": "markdown",
   "metadata": {},
   "source": [
    "## Imports "
   ]
  },
  {
   "cell_type": "code",
   "execution_count": 1,
   "metadata": {},
   "outputs": [],
   "source": [
    "import numpy as np\n",
    "import os\n",
    "import random\n",
    "from random import choice \n",
    "from copy import deepcopy"
   ]
  },
  {
   "cell_type": "markdown",
   "metadata": {},
   "source": [
    "## Reading databases"
   ]
  },
  {
   "cell_type": "code",
   "execution_count": 2,
   "metadata": {},
   "outputs": [],
   "source": [
    "def read_databases(filename):\n",
    "    x1 = []\n",
    "    x2 = []\n",
    "    y = []\n",
    "    for line in open(filename):\n",
    "        csv_row = line.strip().split(',')\n",
    "        csv_row = [float(number) for number in csv_row]\n",
    "        x1.append(csv_row[0])\n",
    "        x2.append(csv_row[1])\n",
    "        y.append(csv_row[2])\n",
    "    return x1, x2, y"
   ]
  },
  {
   "cell_type": "code",
   "execution_count": 3,
   "metadata": {},
   "outputs": [],
   "source": [
    "filename = 'datasets/synth1/synth1-test.csv'\n",
    "x1_train, x2_train, y_train = read_databases(filename)"
   ]
  },
  {
   "cell_type": "code",
   "execution_count": 4,
   "metadata": {},
   "outputs": [],
   "source": [
    "filename = 'datasets/synth1/synth1-train.csv'\n",
    "x1_test, x2_test, y_test = read_databases(filename)"
   ]
  },
  {
   "cell_type": "markdown",
   "metadata": {},
   "source": [
    "## Defining individual class"
   ]
  },
  {
   "cell_type": "code",
   "execution_count": 5,
   "metadata": {},
   "outputs": [],
   "source": [
    "expression = [['expression', 'op', 'expression'], 'variable', 'value']\n",
    "operation = ['+', '-', '*']\n",
    "variable = ['x1', 'x2']\n",
    "value = ['random']"
   ]
  },
  {
   "cell_type": "code",
   "execution_count": 6,
   "metadata": {},
   "outputs": [],
   "source": [
    "terminals_dict = dict()\n",
    "terminals_dict['op'] = operation\n",
    "terminals_dict['variable'] = variable\n",
    "terminals_dict['value'] = value"
   ]
  },
  {
   "cell_type": "code",
   "execution_count": 7,
   "metadata": {},
   "outputs": [],
   "source": [
    "class Node(object):\n",
    "    def __init__(self, data='op', level=0):\n",
    "        self.data = data\n",
    "        self.type = data\n",
    "        self.left_child = None\n",
    "        self.right_child = None\n",
    "        self.level = level\n",
    "        self.max_level = 3\n",
    "        self.terminal = False\n",
    "    \n",
    "    def __copy__(self):\n",
    "        clone = Node()\n",
    "        clone.data = self.data\n",
    "        clone.type = self.type\n",
    "        clone.left_child = self.left_child\n",
    "        clone.right_child = self.right_child\n",
    "        clone.level = self.level\n",
    "        clone.max_level = self.max_level\n",
    "        clone.terminal = seld.terminal\n",
    "\n",
    "    def initial_node(self):\n",
    "        self.add_left('expression')\n",
    "        self.add_right('expression')\n",
    "    \n",
    "    def initialize(self):\n",
    "        self.add_left('expression')\n",
    "        self.add_right('expression')\n",
    "        self.expand_children()\n",
    "        self.get_parameters()\n",
    "\n",
    "    def add_left(self, value):\n",
    "        self.left_child = Node(value, level=self.level+1)\n",
    "    \n",
    "    def add_right(self, value):\n",
    "        self.right_child = Node(value, level=self.level+1)\n",
    "        \n",
    "    def show(self):\n",
    "        print(self.level, \":  \", self.data)\n",
    "        if self.left_child:\n",
    "            self.left_child.show()\n",
    "            self.right_child.show()\n",
    "    \n",
    "    def get_expression(self):\n",
    "        if self.data == 'expression':\n",
    "            self.data = choice(expression)\n",
    "            if type(self.data) == list:\n",
    "                if self.level < self.max_level: \n",
    "                    self.add_left(self.data[0])\n",
    "                    self.add_right(self.data[2])\n",
    "                    self.data = self.data[1]\n",
    "                else:\n",
    "                    self.data = 'value'\n",
    "                    \n",
    "        if self.data != 'op':\n",
    "            self.terminal = True\n",
    "                    \n",
    "        if self.left_child is not None:\n",
    "            self.left_child.get_expression()\n",
    "        \n",
    "        if self.right_child is not None:\n",
    "            self.right_child.get_expression()\n",
    "        \n",
    "        self.type = self.data\n",
    "    \n",
    "    def expand_children(self):\n",
    "        self.left_child.get_expression()\n",
    "        self.right_child.get_expression()\n",
    "    \n",
    "    def get_parameters(self):\n",
    "        self.data = choice(terminals_dict[self.data])\n",
    "        if self.data == 'random':\n",
    "            self.data = random.random()*5\n",
    "        \n",
    "        if self.left_child is not None:\n",
    "            self.left_child.get_parameters()\n",
    "        \n",
    "        if self.right_child is not None:\n",
    "            self.right_child.get_parameters()\n",
    "    \n",
    "    def evaluate(self, x1=0, x2=0):\n",
    "        \n",
    "        if self.terminal:\n",
    "            if self.data == 'x1':\n",
    "                return x1\n",
    "            elif self.data == 'x2':\n",
    "                return x2\n",
    "            else:\n",
    "                return self.data\n",
    "            \n",
    "        if self.left_child is not None:\n",
    "            result_left = self.left_child.evaluate(x1, x2)\n",
    "        if self.right_child is not None:\n",
    "            result_right = self.right_child.evaluate(x1, x2)\n",
    "        \n",
    "        if self.data == '+':\n",
    "            return result_left + result_right\n",
    "        elif self.data == '-':\n",
    "            return result_left - result_right\n",
    "        elif self.data == '*':\n",
    "            return result_left * result_right\n",
    "    \n",
    "    def error(self, x1, x2, y):\n",
    "        return (y - self.evaluate(x1, x2))**2\n",
    "    \n",
    "    def fitness(self, x1_list, x2_list, y_list):\n",
    "        error_sum = 0\n",
    "        for x1, x2, y in zip(x1_list, x2_list, y_list):\n",
    "            error_sum += self.error(x1, x2, y)\n",
    "        y_mean = y_list - np.mean(y_list)\n",
    "        y_mean_sum = sum(y_mean**2)\n",
    "            \n",
    "        return (error_sum/y_mean_sum)**0.5\n",
    "    \n",
    "    def change_node(self):\n",
    "        self.data = choice(terminals_dict[self.type])\n",
    "        if self.data == 'random':\n",
    "            self.data = random.random()*5\n",
    "    \n",
    "    def mutate(self, m_level):\n",
    "        if m_level == self.level:\n",
    "            self.change_node()\n",
    "        elif np.random.rand() < 0.5 and self.left_child is not None:\n",
    "            self.left_child.mutate(m_level)\n",
    "        elif self.right_child is not None:\n",
    "            self.right_child.mutate(m_level)\n",
    "        else:\n",
    "            self.change_node()"
   ]
  },
  {
   "cell_type": "code",
   "execution_count": 8,
   "metadata": {},
   "outputs": [
    {
     "name": "stdout",
     "output_type": "stream",
     "text": [
      "0 :   op\n",
      "1 :   op\n",
      "2 :   value\n",
      "2 :   op\n",
      "3 :   value\n",
      "3 :   variable\n",
      "1 :   variable\n",
      "\n",
      "0 :   +\n",
      "1 :   -\n",
      "2 :   3.8173556838867735\n",
      "2 :   -\n",
      "3 :   4.93542256421709\n",
      "3 :   x1\n",
      "1 :   x1\n"
     ]
    },
    {
     "data": {
      "text/plain": [
       "-1.1180668803303164"
      ]
     },
     "execution_count": 8,
     "metadata": {},
     "output_type": "execute_result"
    }
   ],
   "source": [
    "root = Node()\n",
    "root.initial_node()\n",
    "root.expand_children()\n",
    "root.show()\n",
    "\n",
    "root.get_parameters()\n",
    "print()\n",
    "root.show()\n",
    "\n",
    "root.evaluate()"
   ]
  },
  {
   "cell_type": "code",
   "execution_count": 9,
   "metadata": {},
   "outputs": [
    {
     "data": {
      "text/plain": [
       "2.8819331196696836"
      ]
     },
     "execution_count": 9,
     "metadata": {},
     "output_type": "execute_result"
    }
   ],
   "source": [
    "root.evaluate(2,5)"
   ]
  },
  {
   "cell_type": "code",
   "execution_count": 10,
   "metadata": {},
   "outputs": [
    {
     "data": {
      "text/plain": [
       "0.7778060275703004"
      ]
     },
     "execution_count": 10,
     "metadata": {},
     "output_type": "execute_result"
    }
   ],
   "source": [
    "root.error(2,5, 2)"
   ]
  },
  {
   "cell_type": "markdown",
   "metadata": {},
   "source": [
    "## Generating initial population"
   ]
  },
  {
   "cell_type": "code",
   "execution_count": 11,
   "metadata": {},
   "outputs": [],
   "source": [
    "##Parameters\n",
    "population_size = 5\n",
    "crossover_probability = 0.9"
   ]
  },
  {
   "cell_type": "code",
   "execution_count": 12,
   "metadata": {},
   "outputs": [],
   "source": [
    "class Genetic():\n",
    "    def __init__(self, population_size, crossover_probability=0.9):\n",
    "        if crossover_probability < 0 or crossover_probability > 1 :\n",
    "            raise ValueError('Please give a valid number for crossover probability.')\n",
    "        self.population_size = population_size\n",
    "        self.crossover_probability = crossover_probability\n",
    "        self.mutation_probability = 1 - crossover_probability\n",
    "        self.population = []\n",
    "        for i in range(self.population_size):\n",
    "            root = Node()\n",
    "            root.initialize()\n",
    "            self.population.append(root)\n",
    "    \n",
    "    def sort_by_fitness(self, x1_list, x2_list, y_list):\n",
    "        self.population.sort(key = lambda x: x.fitness(x1_list, x2_list, y_list))\n",
    "    \n",
    "    def rank_selection_pair(self):\n",
    "        ## Assign probabilities inversely proportional to the position index\n",
    "        p = list(range(len(solution1.population))) + np.array(1)\n",
    "        p = np.flipud(p)  # reverse array\n",
    "        p = p/sum(p)\n",
    "        return np.random.choice(self.population,size=2, p=p) #Return two individuals from population\n",
    "    \n",
    "    def generate_offspring(self):\n",
    "        if np.random.rand() < self.crossover_probability:\n",
    "            ## Crossover\n",
    "            return self.crossover()\n",
    "        else:\n",
    "            ## Mutation\n",
    "            return self.mutation()\n",
    "    \n",
    "    def crossover(self):\n",
    "        ## Chosing mutation level with a pobability \n",
    "        pass\n",
    "    \n",
    "    def mutation(self):\n",
    "        parents = self.rank_selection_pair()\n",
    "        children = [deepcopy(parents[0]), deepcopy(parents[1])]\n",
    "        print(children[0].show())\n",
    "        print(children[1].show())\n",
    "        p = list(range(3)) + np.array(1)\n",
    "        p = p/sum(p)\n",
    "        for child in children:\n",
    "            mutation_level = np.random.choice(3, p=p)\n",
    "            child.mutate(mutation_level)\n",
    "        return children"
   ]
  },
  {
   "cell_type": "code",
   "execution_count": 13,
   "metadata": {},
   "outputs": [],
   "source": [
    "solution1 = Genetic(population_size, crossover_probability=0)"
   ]
  },
  {
   "cell_type": "code",
   "execution_count": 14,
   "metadata": {},
   "outputs": [],
   "source": [
    "solution1.sort_by_fitness(x1_test, x2_test, y_test)"
   ]
  },
  {
   "cell_type": "code",
   "execution_count": 15,
   "metadata": {},
   "outputs": [
    {
     "name": "stdout",
     "output_type": "stream",
     "text": [
      "1.0847070889893258\n",
      "0 :   *\n",
      "1 :   -\n",
      "2 :   2.3343129752704286\n",
      "2 :   x1\n",
      "1 :   2.577002726699573\n"
     ]
    }
   ],
   "source": [
    "print(solution1.population[0].fitness(x1_test, x2_test, y_test))\n",
    "solution1.population[0].show()"
   ]
  },
  {
   "cell_type": "code",
   "execution_count": 16,
   "metadata": {},
   "outputs": [
    {
     "name": "stdout",
     "output_type": "stream",
     "text": [
      "1.1877029227629448\n",
      "0 :   +\n",
      "1 :   -\n",
      "2 :   -\n",
      "3 :   2.5165969153659837\n",
      "3 :   1.1451155621575404\n",
      "2 :   -\n",
      "3 :   0.9636732602329606\n",
      "3 :   0.1553201771090429\n",
      "1 :   +\n",
      "2 :   x1\n",
      "2 :   x2\n"
     ]
    }
   ],
   "source": [
    "print(solution1.population[1].fitness(x1_test, x2_test, y_test))\n",
    "solution1.population[1].show()"
   ]
  },
  {
   "cell_type": "code",
   "execution_count": 17,
   "metadata": {},
   "outputs": [
    {
     "name": "stdout",
     "output_type": "stream",
     "text": [
      "1.201960178822782\n",
      "0 :   *\n",
      "1 :   +\n",
      "2 :   2.452524361514001\n",
      "2 :   4.863017131336763\n",
      "1 :   3.4557695466944183\n"
     ]
    }
   ],
   "source": [
    "print(solution1.population[2].fitness(x1_test, x2_test, y_test))\n",
    "solution1.population[2].show()"
   ]
  },
  {
   "cell_type": "code",
   "execution_count": 18,
   "metadata": {},
   "outputs": [
    {
     "name": "stdout",
     "output_type": "stream",
     "text": [
      "1.2115674658317581\n",
      "0 :   *\n",
      "1 :   +\n",
      "2 :   1.268341563203335\n",
      "2 :   0.18825629132706634\n",
      "1 :   x1\n"
     ]
    }
   ],
   "source": [
    "print(solution1.population[3].fitness(x1_test, x2_test, y_test))\n",
    "solution1.population[3].show()"
   ]
  },
  {
   "cell_type": "code",
   "execution_count": 19,
   "metadata": {},
   "outputs": [
    {
     "name": "stdout",
     "output_type": "stream",
     "text": [
      "1.2134019899750847\n",
      "0 :   -\n",
      "1 :   x1\n",
      "1 :   x1\n"
     ]
    }
   ],
   "source": [
    "print(solution1.population[4].fitness(x1_test, x2_test, y_test))\n",
    "solution1.population[4].show()"
   ]
  },
  {
   "cell_type": "markdown",
   "metadata": {},
   "source": [
    "## Selection"
   ]
  },
  {
   "cell_type": "code",
   "execution_count": 20,
   "metadata": {},
   "outputs": [
    {
     "data": {
      "text/plain": [
       "array([<__main__.Node object at 0x000002219B4F2E48>,\n",
       "       <__main__.Node object at 0x000002219B4F2908>], dtype=object)"
      ]
     },
     "execution_count": 20,
     "metadata": {},
     "output_type": "execute_result"
    }
   ],
   "source": [
    "solution1.rank_selection_pair()"
   ]
  },
  {
   "cell_type": "code",
   "execution_count": 21,
   "metadata": {},
   "outputs": [
    {
     "name": "stdout",
     "output_type": "stream",
     "text": [
      "0 :   *\n",
      "1 :   +\n",
      "2 :   1.268341563203335\n",
      "2 :   0.18825629132706634\n",
      "1 :   x1\n",
      "None\n",
      "0 :   *\n",
      "1 :   -\n",
      "2 :   2.3343129752704286\n",
      "2 :   x1\n",
      "1 :   2.577002726699573\n",
      "None\n"
     ]
    }
   ],
   "source": [
    "children = solution1.generate_offspring()"
   ]
  },
  {
   "cell_type": "code",
   "execution_count": 22,
   "metadata": {},
   "outputs": [
    {
     "name": "stdout",
     "output_type": "stream",
     "text": [
      "0 :   *\n",
      "1 :   +\n",
      "2 :   1.268341563203335\n",
      "2 :   0.18825629132706634\n",
      "1 :   x2\n"
     ]
    }
   ],
   "source": [
    "children[0].show()"
   ]
  },
  {
   "cell_type": "code",
   "execution_count": 23,
   "metadata": {},
   "outputs": [
    {
     "name": "stdout",
     "output_type": "stream",
     "text": [
      "0 :   *\n",
      "1 :   -\n",
      "2 :   2.3343129752704286\n",
      "2 :   x1\n",
      "1 :   4.666599491635413\n"
     ]
    }
   ],
   "source": [
    "children[1].show()"
   ]
  }
 ],
 "metadata": {
  "kernelspec": {
   "display_name": "Python 3",
   "language": "python",
   "name": "python3"
  },
  "language_info": {
   "codemirror_mode": {
    "name": "ipython",
    "version": 3
   },
   "file_extension": ".py",
   "mimetype": "text/x-python",
   "name": "python",
   "nbconvert_exporter": "python",
   "pygments_lexer": "ipython3",
   "version": "3.5.5"
  }
 },
 "nbformat": 4,
 "nbformat_minor": 2
}
